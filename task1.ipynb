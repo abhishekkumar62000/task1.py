{
 "cells": [
  {
   "cell_type": "code",
   "execution_count": 2,
   "metadata": {},
   "outputs": [
    {
     "name": "stdout",
     "output_type": "stream",
     "text": [
      "\n",
      "1. Add Task\n",
      "2. List Tasks\n",
      "3. Mark Task as Done\n",
      "4. Exit\n",
      "Task added successfully.\n",
      "\n",
      "1. Add Task\n",
      "2. List Tasks\n",
      "3. Mark Task as Done\n",
      "4. Exit\n",
      "Tasks:\n",
      "1. 2\n"
     ]
    }
   ],
   "source": [
    "tasks = []\n",
    "\n",
    "def add_task():\n",
    "    task = input(\"Enter task: \")\n",
    "    tasks.append(task)\n",
    "    print(\"Task added successfully.\")\n",
    "\n",
    "def list_tasks():\n",
    "    print(\"Tasks:\")\n",
    "    for i, task in enumerate(tasks, 1):\n",
    "        print(f\"{i}. {task}\")\n",
    "\n",
    "def mark_task_done():\n",
    "    list_tasks()\n",
    "    index = int(input(\"Enter task number to mark as done: \")) - 1\n",
    "    if 0 <= index < len(tasks):\n",
    "        tasks.pop(index)\n",
    "        print(\"Task marked as done.\")\n",
    "    else:\n",
    "        print(\"Invalid task number.\")\n",
    "\n",
    "def main():\n",
    "    while True:\n",
    "        print(\"\\n1. Add Task\")\n",
    "        print(\"2. List Tasks\")\n",
    "        print(\"3. Mark Task as Done\")\n",
    "        print(\"4. Exit\")\n",
    "        choice = input(\"Enter your choice: \")\n",
    "\n",
    "        if choice == '1':\n",
    "            add_task()\n",
    "        elif choice == '2':\n",
    "            list_tasks()\n",
    "        elif choice == '3':\n",
    "            mark_task_done()\n",
    "        elif choice == '4':\n",
    "            print(\"Exiting...\")\n",
    "            break\n",
    "        else:\n",
    "            print(\"Invalid choice. Please try again.\")\n",
    "\n",
    "if __name__ == \"__main__\":\n",
    "    main()"
   ]
  },
  {
   "cell_type": "code",
   "execution_count": null,
   "metadata": {},
   "outputs": [],
   "source": []
  }
 ],
 "metadata": {
  "kernelspec": {
   "display_name": "base",
   "language": "python",
   "name": "python3"
  },
  "language_info": {
   "codemirror_mode": {
    "name": "ipython",
    "version": 3
   },
   "file_extension": ".py",
   "mimetype": "text/x-python",
   "name": "python",
   "nbconvert_exporter": "python",
   "pygments_lexer": "ipython3",
   "version": "3.11.7"
  }
 },
 "nbformat": 4,
 "nbformat_minor": 2
}
